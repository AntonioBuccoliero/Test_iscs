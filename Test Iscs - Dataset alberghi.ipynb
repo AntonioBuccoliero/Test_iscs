{
 "cells": [
  {
   "cell_type": "markdown",
   "metadata": {},
   "source": [
    "#### Importo le librerie utili"
   ]
  },
  {
   "cell_type": "code",
   "execution_count": 1,
   "metadata": {},
   "outputs": [],
   "source": [
    "import pandas as pd\n",
    "import numpy as np\n",
    "from sklearn.neural_network import MLPClassifier\n",
    "from sklearn.model_selection import train_test_split\n",
    "import seaborn as sn\n",
    "import matplotlib.pyplot as plt\n",
    "from sklearn.neighbors import KNeighborsClassifier \n",
    "from sklearn.metrics import confusion_matrix \n",
    "from sklearn.naive_bayes import GaussianNB\n",
    "from sklearn import preprocessing"
   ]
  },
  {
   "cell_type": "markdown",
   "metadata": {},
   "source": [
    "##### Carico il dataset"
   ]
  },
  {
   "cell_type": "code",
   "execution_count": 3,
   "metadata": {},
   "outputs": [],
   "source": [
    "dataset= pd.read_csv(\"D://Desktop/classification_dataset.csv\",sep=\"\t\")"
   ]
  },
  {
   "cell_type": "code",
   "execution_count": 39,
   "metadata": {},
   "outputs": [
    {
     "data": {
      "text/plain": [
       "array(['B&B', 'Case_Appartamenti', '4_a_5_Stelle', '1_a_3_Stelle',\n",
       "       'Campeggio'], dtype=object)"
      ]
     },
     "execution_count": 39,
     "metadata": {},
     "output_type": "execute_result"
    }
   ],
   "source": [
    "dataset['OUTPUT'].unique()"
   ]
  },
  {
   "cell_type": "code",
   "execution_count": 129,
   "metadata": {
    "scrolled": true
   },
   "outputs": [
    {
     "name": "stdout",
     "output_type": "stream",
     "text": [
      "ID :  int64\n",
      "PROVINCIA :  object\n",
      "COMUNE :  object\n",
      "LOCALITA :  object\n",
      "CAMERE :  int64\n",
      "SUITE :  int64\n",
      "LETTI :  int64\n",
      "BAGNI :  int64\n",
      "PRIMA_COLAZIONE :  float64\n",
      "IN_ABITATO :  float64\n",
      "SUL_LAGO :  float64\n",
      "VICINO_ELIPORTO :  float64\n",
      "VICINO_AEREOPORTO :  float64\n",
      "ZONA_CENTRALE :  float64\n",
      "VICINO_IMP_RISALITA :  float64\n",
      "ZONA_PERIFERICA :  float64\n",
      "ZONA_STAZIONE_FS :  float64\n",
      "ATTREZZATURE_VARIE :  object\n",
      "CARTE_ACCETTATE :  object\n",
      "LINGUE_PARLATE :  object\n",
      "SPORT :  object\n",
      "CONGRESSI :  object\n",
      "LATITUDINE :  float64\n",
      "LONGITUDINE :  float64\n",
      "OUTPUT :  object\n"
     ]
    }
   ],
   "source": [
    "for el in dataset.columns:\n",
    "    print(el,\": \", dataset[el].dtypes)"
   ]
  },
  {
   "cell_type": "markdown",
   "metadata": {},
   "source": [
    "###### sostituisco i valori nulli nel database con lo 0, per non avere problemi durante la creazione del modello. Trasformo la colonna PRIMA_COLAZIONE in float."
   ]
  },
  {
   "cell_type": "code",
   "execution_count": 95,
   "metadata": {},
   "outputs": [],
   "source": [
    "dataset.fillna(0,inplace=True)"
   ]
  },
  {
   "cell_type": "code",
   "execution_count": 128,
   "metadata": {},
   "outputs": [],
   "source": [
    "dataset['PRIMA_COLAZIONE']=dataset['PRIMA_COLAZIONE'].astype(float,inplace=True)"
   ]
  },
  {
   "cell_type": "markdown",
   "metadata": {},
   "source": [
    "##### Divido il dataset in train e test"
   ]
  },
  {
   "cell_type": "code",
   "execution_count": 130,
   "metadata": {},
   "outputs": [],
   "source": [
    "train, test = train_test_split(dataset, test_size=0.2)"
   ]
  },
  {
   "cell_type": "code",
   "execution_count": 131,
   "metadata": {},
   "outputs": [
    {
     "data": {
      "text/plain": [
       "array(['1_a_3_Stelle', 'Case_Appartamenti', 'Campeggio', 'B&B',\n",
       "       '4_a_5_Stelle'], dtype=object)"
      ]
     },
     "execution_count": 131,
     "metadata": {},
     "output_type": "execute_result"
    }
   ],
   "source": [
    "train['OUTPUT'].unique()"
   ]
  },
  {
   "cell_type": "code",
   "execution_count": 132,
   "metadata": {},
   "outputs": [
    {
     "data": {
      "text/plain": [
       "array(['Case_Appartamenti', 'B&B', '4_a_5_Stelle', '1_a_3_Stelle',\n",
       "       'Campeggio'], dtype=object)"
      ]
     },
     "execution_count": 132,
     "metadata": {},
     "output_type": "execute_result"
    }
   ],
   "source": [
    "test['OUTPUT'].unique()"
   ]
  },
  {
   "cell_type": "markdown",
   "metadata": {},
   "source": [
    "#### Creo il train_x che contiene le features che risultano utili per la creazione del modello e imposto train_y con i valori dell'output in cui il modello deve allenarsi."
   ]
  },
  {
   "cell_type": "code",
   "execution_count": 284,
   "metadata": {},
   "outputs": [],
   "source": [
    "train_x= train.iloc[:,4:16].values\n",
    "train_y= train.iloc[:,24:].values"
   ]
  },
  {
   "cell_type": "markdown",
   "metadata": {},
   "source": [
    "###### Creo il test_y che contiene tutte le features del train_x su cui si baserà la previsione tramite il modello creto. Tengo i valori dell'output per poi calcolare l'accuracy dunque la bontà della previsione"
   ]
  },
  {
   "cell_type": "code",
   "execution_count": 285,
   "metadata": {},
   "outputs": [],
   "source": [
    "test_x= test.iloc[:,4:16].values\n",
    "test_y= test.iloc[:,24:].values"
   ]
  },
  {
   "cell_type": "markdown",
   "metadata": {},
   "source": [
    "##### Tramite LabelEncoder trasformo l'output che sono in formato testo in numeri comprei da 0 a 4."
   ]
  },
  {
   "cell_type": "code",
   "execution_count": 286,
   "metadata": {
    "collapsed": true
   },
   "outputs": [
    {
     "name": "stderr",
     "output_type": "stream",
     "text": [
      "D:\\Programmi\\anaconda3\\lib\\site-packages\\sklearn\\preprocessing\\label.py:219: DataConversionWarning: A column-vector y was passed when a 1d array was expected. Please change the shape of y to (n_samples, ), for example using ravel().\n",
      "  y = column_or_1d(y, warn=True)\n"
     ]
    },
    {
     "data": {
      "text/plain": [
       "LabelEncoder()"
      ]
     },
     "execution_count": 286,
     "metadata": {},
     "output_type": "execute_result"
    }
   ],
   "source": [
    "le = preprocessing.LabelEncoder()\n",
    "le.fit(train_y)"
   ]
  },
  {
   "cell_type": "code",
   "execution_count": 287,
   "metadata": {
    "collapsed": true
   },
   "outputs": [
    {
     "name": "stderr",
     "output_type": "stream",
     "text": [
      "D:\\Programmi\\anaconda3\\lib\\site-packages\\sklearn\\preprocessing\\label.py:252: DataConversionWarning: A column-vector y was passed when a 1d array was expected. Please change the shape of y to (n_samples, ), for example using ravel().\n",
      "  y = column_or_1d(y, warn=True)\n"
     ]
    }
   ],
   "source": [
    "train_y=le.transform(train_y)"
   ]
  },
  {
   "cell_type": "code",
   "execution_count": 288,
   "metadata": {
    "collapsed": true
   },
   "outputs": [
    {
     "name": "stderr",
     "output_type": "stream",
     "text": [
      "D:\\Programmi\\anaconda3\\lib\\site-packages\\sklearn\\preprocessing\\label.py:252: DataConversionWarning: A column-vector y was passed when a 1d array was expected. Please change the shape of y to (n_samples, ), for example using ravel().\n",
      "  y = column_or_1d(y, warn=True)\n"
     ]
    }
   ],
   "source": [
    "test_y=le.transform(test_y)"
   ]
  },
  {
   "cell_type": "markdown",
   "metadata": {},
   "source": [
    "## Gaussian Naive Bayes model"
   ]
  },
  {
   "cell_type": "code",
   "execution_count": 289,
   "metadata": {
    "scrolled": false
   },
   "outputs": [
    {
     "data": {
      "text/plain": [
       "Text(0.5, 14.09375, 'Predicted label')"
      ]
     },
     "execution_count": 289,
     "metadata": {},
     "output_type": "execute_result"
    },
    {
     "data": {
      "image/png": "[encoded data removed]",
      "text/plain": [
       "<Figure size 432x288 with 2 Axes>"
      ]
     },
     "metadata": {
      "needs_background": "light"
     },
     "output_type": "display_data"
    }
   ],
   "source": [
    "gnb = GaussianNB().fit(train_x, train_y) \n",
    "gnb_predictions = gnb.predict(test_x) \n",
    "\n",
    "accuracy = gnb.score(test_x, test_y) \n",
    " \n",
    "confusionMatrix = confusion_matrix(test_y, gnb_predictions,labels=[0,1,2,3,4])\n",
    "\n",
    "cm_plot = pd.DataFrame(confusionMatrix,\n",
    "                     index =['1_a_3_Stelle', 'Case_Appartamenti', 'Campeggio', 'B&B', '4_a_5_Stelle'] ,\n",
    "           columns =['1_a_3_Stelle', 'Case_Appartamenti', 'Campeggio', 'B&B','4_a_5_Stelle'])\n",
    "sn.heatmap(cm_plot,annot=True,cmap=\"YlGnBu\")\n",
    "plt.title('GaussianNaiveBayes\\nAccuracy: ' + str(accuracy)+\"\\n\")\n",
    "plt.ylabel('True label')\n",
    "plt.xlabel('Predicted label')"
   ]
  },
  {
   "cell_type": "markdown",
   "metadata": {},
   "source": [
    "## K-NeighborsClassifier model"
   ]
  },
  {
   "cell_type": "code",
   "execution_count": 291,
   "metadata": {},
   "outputs": [
    {
     "data": {
      "text/plain": [
       "Text(0.5, 14.09375, 'Predicted label')"
      ]
     },
     "execution_count": 291,
     "metadata": {},
     "output_type": "execute_result"
    },
    {
     "data": {
      "image/png": "[encoded data removed]",
      "text/plain": [
       "<Figure size 432x288 with 2 Axes>"
      ]
     },
     "metadata": {
      "needs_background": "light"
     },
     "output_type": "display_data"
    }
   ],
   "source": [
    "knn = KNeighborsClassifier(n_neighbors = 7).fit(train_x, train_y) \n",
    "  \n",
    "# accuracy on X_test \n",
    "accuracy2 = knn.score(test_x, test_y) \n",
    "  \n",
    "# creating a confusion matrix \n",
    "knn_predictions = knn.predict(test_x)  \n",
    "confusionMatrixknn = confusion_matrix(test_y, knn_predictions,labels=[0,1,2,3,4]) \n",
    "\n",
    "cm_plot_knn = pd.DataFrame(confusionMatrixknn,\n",
    "                     index =['1_a_3_Stelle', 'Case_Appartamenti', 'Campeggio', 'B&B', '4_a_5_Stelle'] ,\n",
    "           columns =['1_a_3_Stelle', 'Case_Appartamenti', 'Campeggio', 'B&B','4_a_5_Stelle'])\n",
    "sn.heatmap(cm_plot_knn,annot=True,cmap=\"YlGnBu\")\n",
    "plt.title('K-Nearest Neighbors\\nAccuracy: ' + str(accuracy2)+\"\\n\")\n",
    "plt.ylabel('True label')\n",
    "plt.xlabel('Predicted label')"
   ]
  },
  {
   "cell_type": "markdown",
   "metadata": {},
   "source": [
    "#### Tra i due modelli costruiti quello con accuracy più alta risulta essere il K-NeighborsClassifier, con un'accuracy del 77%. Alcuni miglioramenti potrebbero essere apportato utilizzando le features che contengono porzioni di testo, o tramite text mining, o banalmente utilizzando la logica binaria 0 e 1, indicando con 0 le strutture che hanno valori nulli e con 1 le strutture che hanno ad esempio attività sportive, accettano pagamenti con carta o parlano più lingue. "
   ]
  },
  {
   "cell_type": "markdown",
   "metadata": {},
   "source": [
    "#### Un piccolo tool per visualizzare un pò il dataset."
   ]
  },
  {
   "cell_type": "code",
   "execution_count": 317,
   "metadata": {},
   "outputs": [
    {
     "data": {
      "text/html": [
       "\n",
       "<div class='tableauPlaceholder' id='viz1581006724016' style='position: relative'><noscript><a href='#'><img alt=' ' src='https:&#47;&#47;public.tableau.com&#47;static&#47;images&#47;Te&#47;Test_iscs&#47;Dashboard1&#47;1_rss.png' style='border: none' /></a></noscript><object class='tableauViz'  style='display:none;'><param name='host_url' value='https%3A%2F%2Fpublic.tableau.com%2F' /> <param name='embed_code_version' value='3' /> <param name='site_root' value='' /><param name='name' value='Test_iscs&#47;Dashboard1' /><param name='tabs' value='no' /><param name='toolbar' value='yes' /><param name='static_image' value='https:&#47;&#47;public.tableau.com&#47;static&#47;images&#47;Te&#47;Test_iscs&#47;Dashboard1&#47;1.png' /> <param name='animate_transition' value='yes' /><param name='display_static_image' value='yes' /><param name='display_spinner' value='yes' /><param name='display_overlay' value='yes' /><param name='display_count' value='yes' /><param name='filter' value='publish=yes' /></object></div>                <script type='text/javascript'>                    var divElement = document.getElementById('viz1581006724016');                    var vizElement = divElement.getElementsByTagName('object')[0];                    vizElement.style.width='100%';vizElement.style.height=(divElement.offsetWidth*0.75)+'px';                    var scriptElement = document.createElement('script');                    scriptElement.src = 'https://public.tableau.com/javascripts/api/viz_v1.js';                    vizElement.parentNode.insertBefore(scriptElement, vizElement);                </script>\n"
      ],
      "text/plain": [
       "<IPython.core.display.HTML object>"
      ]
     },
     "metadata": {},
     "output_type": "display_data"
    }
   ],
   "source": [
    "%%HTML\n",
    "\n",
    "<div class='tableauPlaceholder' id='viz1581006724016' style='position: relative'><noscript><a href='#'><img alt=' ' src='https:&#47;&#47;public.tableau.com&#47;static&#47;images&#47;Te&#47;Test_iscs&#47;Dashboard1&#47;1_rss.png' style='border: none' /></a></noscript><object class='tableauViz'  style='display:none;'><param name='host_url' value='https%3A%2F%2Fpublic.tableau.com%2F' /> <param name='embed_code_version' value='3' /> <param name='site_root' value='' /><param name='name' value='Test_iscs&#47;Dashboard1' /><param name='tabs' value='no' /><param name='toolbar' value='yes' /><param name='static_image' value='https:&#47;&#47;public.tableau.com&#47;static&#47;images&#47;Te&#47;Test_iscs&#47;Dashboard1&#47;1.png' /> <param name='animate_transition' value='yes' /><param name='display_static_image' value='yes' /><param name='display_spinner' value='yes' /><param name='display_overlay' value='yes' /><param name='display_count' value='yes' /><param name='filter' value='publish=yes' /></object></div>                <script type='text/javascript'>                    var divElement = document.getElementById('viz1581006724016');                    var vizElement = divElement.getElementsByTagName('object')[0];                    vizElement.style.width='100%';vizElement.style.height=(divElement.offsetWidth*0.75)+'px';                    var scriptElement = document.createElement('script');                    scriptElement.src = 'https://public.tableau.com/javascripts/api/viz_v1.js';                    vizElement.parentNode.insertBefore(scriptElement, vizElement);                </script>"
   ]
  }
 ],
 "metadata": {
  "kernelspec": {
   "display_name": "Python 3",
   "language": "python",
   "name": "python3"
  },
  "language_info": {
   "codemirror_mode": {
    "name": "ipython",
    "version": 3
   },
   "file_extension": ".py",
   "mimetype": "text/x-python",
   "name": "python",
   "nbconvert_exporter": "python",
   "pygments_lexer": "ipython3",
   "version": "3.7.3"
  }
 },
 "nbformat": 4,
 "nbformat_minor": 2
}
